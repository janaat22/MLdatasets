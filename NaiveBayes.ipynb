{
  "nbformat": 4,
  "nbformat_minor": 0,
  "metadata": {
    "colab": {
      "name": "NaiveBayes.ipynb",
      "version": "0.3.2",
      "provenance": [],
      "collapsed_sections": [],
      "include_colab_link": true
    },
    "kernelspec": {
      "name": "python3",
      "display_name": "Python 3"
    }
  },
  "cells": [
    {
      "cell_type": "markdown",
      "metadata": {
        "id": "view-in-github",
        "colab_type": "text"
      },
      "source": [
        "<a href=\"https://colab.research.google.com/github/janaat22/MLdatasets/blob/master/NaiveBayes.ipynb\" target=\"_parent\"><img src=\"https://colab.research.google.com/assets/colab-badge.svg\" alt=\"Open In Colab\"/></a>"
      ]
    },
    {
      "cell_type": "code",
      "metadata": {
        "id": "l3E0MMdtJugo",
        "colab_type": "code",
        "outputId": "4d0cafcf-3f78-4fdd-b09e-82e4a9662902",
        "colab": {
          "base_uri": "https://localhost:8080/",
          "height": 51
        }
      },
      "source": [
        "import pandas as pd\n",
        "from sklearn.model_selection import train_test_split\n",
        "from sklearn.ensemble import RandomForestClassifier\n",
        "from sklearn.naive_bayes import MultinomialNB\n",
        "from sklearn.metrics import confusion_matrix\n",
        "from sklearn.metrics import roc_curve\n",
        "import matplotlib\n",
        "import matplotlib.pyplot as plt\n",
        "from IPython.display import display, HTML\n",
        "from sklearn import preprocessing\n",
        "from sklearn.naive_bayes import BernoulliNB\n",
        "from sklearn import metrics\n",
        "import nltk  \n",
        "nltk.download('punkt')\n",
        "from sklearn.metrics import accuracy_score "
      ],
      "execution_count": 249,
      "outputs": [
        {
          "output_type": "stream",
          "text": [
            "[nltk_data] Downloading package punkt to /root/nltk_data...\n",
            "[nltk_data]   Package punkt is already up-to-date!\n"
          ],
          "name": "stdout"
        }
      ]
    },
    {
      "cell_type": "code",
      "metadata": {
        "id": "gJEbQIV6LB4w",
        "colab_type": "code",
        "outputId": "c852580c-3923-4ba4-8b56-6809c02e1a36",
        "colab": {
          "base_uri": "https://localhost:8080/",
          "height": 97
        }
      },
      "source": [
        "df = pd.read_csv(\"ReviewCSV_final.csv\")\n",
        "\n",
        "print(\"Number of rows: \", df.shape[0])\n",
        "counts = df.describe().iloc[0]\n",
        "display(\n",
        "pd.DataFrame(\n",
        "counts.tolist(), \n",
        "columns=[\"Count of values\"], \n",
        "index=counts.index.values\n",
        ").transpose()\n",
        ")\n",
        "df['label'] = df.label.map({'Y': 1, 'N': 0}) \n",
        "df['review'] = df.review.map(lambda x: x.lower()) \n",
        "df['review'] = df.review.str.replace('[^\\w\\s]', '')\n",
        "\n",
        "#Preprocess Data\n",
        "df['review'] = df['review'].apply(nltk.word_tokenize)"
      ],
      "execution_count": 250,
      "outputs": [
        {
          "output_type": "stream",
          "text": [
            "Number of rows:  61485\n"
          ],
          "name": "stdout"
        },
        {
          "output_type": "display_data",
          "data": {
            "text/html": [
              "<div>\n",
              "<style scoped>\n",
              "    .dataframe tbody tr th:only-of-type {\n",
              "        vertical-align: middle;\n",
              "    }\n",
              "\n",
              "    .dataframe tbody tr th {\n",
              "        vertical-align: top;\n",
              "    }\n",
              "\n",
              "    .dataframe thead th {\n",
              "        text-align: right;\n",
              "    }\n",
              "</style>\n",
              "<table border=\"1\" class=\"dataframe\">\n",
              "  <thead>\n",
              "    <tr style=\"text-align: right;\">\n",
              "      <th></th>\n",
              "      <th>month</th>\n",
              "      <th>date</th>\n",
              "      <th>year</th>\n",
              "      <th>fakecount</th>\n",
              "      <th>truecount</th>\n",
              "      <th>rating1</th>\n",
              "      <th>rating2</th>\n",
              "      <th>rating3</th>\n",
              "      <th>rating4</th>\n",
              "    </tr>\n",
              "  </thead>\n",
              "  <tbody>\n",
              "    <tr>\n",
              "      <th>Count of values</th>\n",
              "      <td>61485.0</td>\n",
              "      <td>61485.0</td>\n",
              "      <td>61485.0</td>\n",
              "      <td>61485.0</td>\n",
              "      <td>61485.0</td>\n",
              "      <td>61485.0</td>\n",
              "      <td>61485.0</td>\n",
              "      <td>61485.0</td>\n",
              "      <td>61485.0</td>\n",
              "    </tr>\n",
              "  </tbody>\n",
              "</table>\n",
              "</div>"
            ],
            "text/plain": [
              "                   month     date     year  fakecount  truecount  rating1  \\\n",
              "Count of values  61485.0  61485.0  61485.0    61485.0    61485.0  61485.0   \n",
              "\n",
              "                 rating2  rating3  rating4  \n",
              "Count of values  61485.0  61485.0  61485.0  "
            ]
          },
          "metadata": {
            "tags": []
          }
        }
      ]
    },
    {
      "cell_type": "code",
      "metadata": {
        "id": "pOUprNNbBK_k",
        "colab_type": "code",
        "colab": {}
      },
      "source": [
        "from nltk.stem import PorterStemmer\n",
        "\n",
        "stemmer = PorterStemmer()\n",
        "\n",
        "df['review'] = df['review'].apply(lambda x: [stemmer.stem(y) for y in x]) "
      ],
      "execution_count": 0,
      "outputs": []
    },
    {
      "cell_type": "code",
      "metadata": {
        "id": "1QdBSbw6CCJH",
        "colab_type": "code",
        "colab": {}
      },
      "source": [
        "from sklearn.feature_extraction.text import CountVectorizer\n",
        "\n",
        "# This converts the list of words into space-separated strings\n",
        "df['review'] = df['review'].apply(lambda x: ' '.join(x))\n",
        "\n"
      ],
      "execution_count": 0,
      "outputs": []
    },
    {
      "cell_type": "code",
      "metadata": {
        "id": "WQbifWC7LQzz",
        "colab_type": "code",
        "colab": {}
      },
      "source": [
        "features = df.drop([\"label\"], axis=1).columns\n",
        "\n",
        "le = preprocessing.LabelEncoder()\n",
        "for column_name in df.columns:\n",
        "        if df[column_name].dtype == object:\n",
        "            df[column_name] = le.fit_transform(df[column_name])\n",
        "        else:\n",
        "            pass\n",
        "\n",
        "df_train, df_test = train_test_split(df, test_size=0.25)\n"
      ],
      "execution_count": 0,
      "outputs": []
    },
    {
      "cell_type": "code",
      "metadata": {
        "id": "UAmqYlVPLUj_",
        "colab_type": "code",
        "colab": {
          "base_uri": "https://localhost:8080/",
          "height": 34
        },
        "outputId": "bb7a5bb4-fd31-4367-ccbf-f6cc5bd11c46"
      },
      "source": [
        "df_train = df_train.fillna(method='ffill')\n",
        "\n",
        "#train classifier\n",
        "\n",
        "clf = BernoulliNB()\n",
        "\n",
        "clf.fit(df_train[features], df_train[\"label\"])\n"
      ],
      "execution_count": 254,
      "outputs": [
        {
          "output_type": "execute_result",
          "data": {
            "text/plain": [
              "BernoulliNB(alpha=1.0, binarize=0.0, class_prior=None, fit_prior=True)"
            ]
          },
          "metadata": {
            "tags": []
          },
          "execution_count": 254
        }
      ]
    },
    {
      "cell_type": "code",
      "metadata": {
        "id": "XaK4BBh_Hjn0",
        "colab_type": "code",
        "colab": {
          "base_uri": "https://localhost:8080/",
          "height": 34
        },
        "outputId": "89a0ee26-733b-4235-ffe0-51a4e558ce49"
      },
      "source": [
        "#make predictions\n",
        "\n",
        "predictions = clf.predict(df_test[features])\n",
        "probs = clf.predict_proba(df_test[features])\n",
        "display(predictions)"
      ],
      "execution_count": 255,
      "outputs": [
        {
          "output_type": "display_data",
          "data": {
            "text/plain": [
              "array([0, 1, 0, ..., 0, 0, 0])"
            ]
          },
          "metadata": {
            "tags": []
          }
        }
      ]
    },
    {
      "cell_type": "code",
      "metadata": {
        "id": "r-iILrDaHtwG",
        "colab_type": "code",
        "colab": {
          "base_uri": "https://localhost:8080/",
          "height": 34
        },
        "outputId": "a5620f6c-2c7b-4017-e5ef-ef4038ff1e0d"
      },
      "source": [
        "#Evaluation\n",
        "\n",
        "score = clf.score(df_test[features], df_test[\"label\"])\n",
        "print(\"Accuracy: \"+ str(score))"
      ],
      "execution_count": 256,
      "outputs": [
        {
          "output_type": "stream",
          "text": [
            "Accuracy: 0.9979182930002602\n"
          ],
          "name": "stdout"
        }
      ]
    },
    {
      "cell_type": "code",
      "metadata": {
        "id": "IuGEkNFvYH5B",
        "colab_type": "code",
        "colab": {
          "base_uri": "https://localhost:8080/",
          "height": 111
        },
        "outputId": "b3701743-8bcd-4fe7-8006-0ef3795685cc"
      },
      "source": [
        "#Confusion Matrix\n",
        "results = confusion_matrix(df_test[\"label\"], predictions) \n",
        "\n",
        "get_ipython().magic('matplotlib inline')\n",
        "confusion_matrix = pd.DataFrame(\n",
        "    confusion_matrix(df_test[\"label\"], predictions), \n",
        "    columns=[\"Predicted Genuine\", \"Predicted Fake\"], \n",
        "    index=[\"Genuine reviews\", \"Fake reviews\"]\n",
        ")\n",
        "display(confusion_matrix) "
      ],
      "execution_count": 257,
      "outputs": [
        {
          "output_type": "display_data",
          "data": {
            "text/html": [
              "<div>\n",
              "<style scoped>\n",
              "    .dataframe tbody tr th:only-of-type {\n",
              "        vertical-align: middle;\n",
              "    }\n",
              "\n",
              "    .dataframe tbody tr th {\n",
              "        vertical-align: top;\n",
              "    }\n",
              "\n",
              "    .dataframe thead th {\n",
              "        text-align: right;\n",
              "    }\n",
              "</style>\n",
              "<table border=\"1\" class=\"dataframe\">\n",
              "  <thead>\n",
              "    <tr style=\"text-align: right;\">\n",
              "      <th></th>\n",
              "      <th>Predicted Genuine</th>\n",
              "      <th>Predicted Fake</th>\n",
              "    </tr>\n",
              "  </thead>\n",
              "  <tbody>\n",
              "    <tr>\n",
              "      <th>Genuine reviews</th>\n",
              "      <td>13332</td>\n",
              "      <td>32</td>\n",
              "    </tr>\n",
              "    <tr>\n",
              "      <th>Fake reviews</th>\n",
              "      <td>0</td>\n",
              "      <td>2008</td>\n",
              "    </tr>\n",
              "  </tbody>\n",
              "</table>\n",
              "</div>"
            ],
            "text/plain": [
              "                 Predicted Genuine  Predicted Fake\n",
              "Genuine reviews              13332              32\n",
              "Fake reviews                     0            2008"
            ]
          },
          "metadata": {
            "tags": []
          }
        }
      ]
    },
    {
      "cell_type": "code",
      "metadata": {
        "id": "sl7dvkjkg2tU",
        "colab_type": "code",
        "colab": {
          "base_uri": "https://localhost:8080/",
          "height": 51
        },
        "outputId": "0ab0db00-0972-4495-8474-9068724fd818"
      },
      "source": [
        "display(results)"
      ],
      "execution_count": 258,
      "outputs": [
        {
          "output_type": "display_data",
          "data": {
            "text/plain": [
              "array([[13332,    32],\n",
              "       [    0,  2008]])"
            ]
          },
          "metadata": {
            "tags": []
          }
        }
      ]
    },
    {
      "cell_type": "code",
      "metadata": {
        "id": "Y9fk6M95RtI2",
        "colab_type": "code",
        "colab": {
          "base_uri": "https://localhost:8080/",
          "height": 283
        },
        "outputId": "d37b2e0d-00c5-4bfb-ab88-02767e8ef31b"
      },
      "source": [
        "from sklearn.model_selection import cross_val_predict\n",
        "from sklearn import linear_model\n",
        "import matplotlib.pyplot as plt\n",
        "\n",
        "lr = linear_model.LinearRegression()\n",
        "#boston = datasets.load_boston()\n",
        "y = df_test[\"label\"]\n",
        "\n",
        "# cross_val_predict returns an array of the same size as `y` where each entry\n",
        "# is a prediction obtained by cross validated:\n",
        "#predicted = cross_val_predict(lr, boston.data, y, cv=10)\n",
        "\n",
        "fig,ax = plt.subplots()\n",
        "ax.scatter(y, predictions)\n",
        "ax.plot([y.min(), y.max()], [y.min(), y.max()], 'k--', lw=4)\n",
        "ax.set_xlabel('Measured')\n",
        "ax.set_ylabel('Predicted')\n",
        "fig.show()"
      ],
      "execution_count": 259,
      "outputs": [
        {
          "output_type": "display_data",
          "data": {
            "image/png": "[encoded data removed]",
            "text/plain": [
              "<Figure size 432x288 with 1 Axes>"
            ]
          },
          "metadata": {
            "tags": []
          }
        }
      ]
    },
    {
      "cell_type": "code",
      "metadata": {
        "id": "MORe88nBcsL-",
        "colab_type": "code",
        "colab": {
          "base_uri": "https://localhost:8080/",
          "height": 255
        },
        "outputId": "c520131f-bae0-4d33-f14b-0954da9c5967"
      },
      "source": [
        "import matplotlib.pyplot as plt\n",
        "\n",
        "# Data to plot\n",
        "labels = 'TP', 'TN', 'FP', 'FN'\n",
        "sizes = [results[0][0],results[0][1],results[1][1],results[1][0]]\n",
        "colors = ['gold', 'yellowgreen', 'lightcoral', 'lightskyblue']\n",
        "explode = (0.1, 0.3, 0.1, 0.2)  # explode 1st slice\n",
        "\n",
        "# Plot\n",
        "plt.pie(sizes, explode=explode, labels=labels, colors=colors,\n",
        "autopct='%1.1f%%', shadow=True, startangle=140)\n",
        "\n",
        "plt.axis('equal')\n",
        "plt.show()"
      ],
      "execution_count": 260,
      "outputs": [
        {
          "output_type": "display_data",
          "data": {
            "image/png": "[encoded data removed]",
            "text/plain": [
              "<Figure size 432x288 with 1 Axes>"
            ]
          },
          "metadata": {
            "tags": []
          }
        }
      ]
    }
  ]
}