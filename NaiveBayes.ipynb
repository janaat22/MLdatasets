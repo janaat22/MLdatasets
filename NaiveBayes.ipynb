{
  "nbformat": 4,
  "nbformat_minor": 0,
  "metadata": {
    "colab": {
      "name": "NaiveBayes.ipynb",
      "version": "0.3.2",
      "provenance": [],
      "collapsed_sections": [],
      "include_colab_link": true
    },
    "kernelspec": {
      "name": "python3",
      "display_name": "Python 3"
    }
  },
  "cells": [
    {
      "cell_type": "markdown",
      "metadata": {
        "id": "view-in-github",
        "colab_type": "text"
      },
      "source": [
        "<a href=\"https://colab.research.google.com/github/janaat22/MLdatasets/blob/master/NaiveBayes.ipynb\" target=\"_parent\"><img src=\"https://colab.research.google.com/assets/colab-badge.svg\" alt=\"Open In Colab\"/></a>"
      ]
    },
    {
      "cell_type": "code",
      "metadata": {
        "id": "l3E0MMdtJugo",
        "colab_type": "code",
        "outputId": "02e64a34-d67c-408c-8b14-75226365cc21",
        "colab": {
          "base_uri": "https://localhost:8080/",
          "height": 68
        }
      },
      "source": [
        "import pandas as pd\n",
        "from sklearn.model_selection import train_test_split\n",
        "from sklearn.ensemble import RandomForestClassifier\n",
        "from sklearn.naive_bayes import MultinomialNB\n",
        "from sklearn.metrics import confusion_matrix\n",
        "from sklearn.metrics import roc_curve\n",
        "import matplotlib\n",
        "import matplotlib.pyplot as plt\n",
        "from IPython.display import display, HTML\n",
        "from sklearn import preprocessing\n",
        "from sklearn.naive_bayes import BernoulliNB\n",
        "from sklearn import metrics\n",
        "import nltk  \n",
        "nltk.download('punkt')"
      ],
      "execution_count": 13,
      "outputs": [
        {
          "output_type": "stream",
          "text": [
            "[nltk_data] Downloading package punkt to /root/nltk_data...\n",
            "[nltk_data]   Package punkt is already up-to-date!\n"
          ],
          "name": "stdout"
        },
        {
          "output_type": "execute_result",
          "data": {
            "text/plain": [
              "True"
            ]
          },
          "metadata": {
            "tags": []
          },
          "execution_count": 13
        }
      ]
    },
    {
      "cell_type": "code",
      "metadata": {
        "id": "gJEbQIV6LB4w",
        "colab_type": "code",
        "outputId": "c08bac3d-e9a3-4a7b-d46c-63aab05a0de0",
        "colab": {
          "base_uri": "https://localhost:8080/",
          "height": 114
        }
      },
      "source": [
        "df = pd.read_csv(\"ReviewCSV.csv\")\n",
        "\n",
        "print(\"Number of rows: \", df.shape[0])\n",
        "counts = df.describe().iloc[0]\n",
        "display(\n",
        "pd.DataFrame(\n",
        "counts.tolist(), \n",
        "columns=[\"Count of values\"], \n",
        "index=counts.index.values\n",
        ").transpose()\n",
        ")\n",
        "df['label'] = df.label.map({'Y': 0, 'N': 1}) \n",
        "df['review'] = df.review.map(lambda x: x.lower()) \n",
        "df['review'] = df.review.str.replace('[^\\w\\s]', '')\n",
        "\n",
        "#Preprocess Data\n",
        "df['review'] = df['review'].apply(nltk.word_tokenize)"
      ],
      "execution_count": 14,
      "outputs": [
        {
          "output_type": "stream",
          "text": [
            "Number of rows:  61541\n"
          ],
          "name": "stdout"
        },
        {
          "output_type": "display_data",
          "data": {
            "text/html": [
              "<div>\n",
              "<style scoped>\n",
              "    .dataframe tbody tr th:only-of-type {\n",
              "        vertical-align: middle;\n",
              "    }\n",
              "\n",
              "    .dataframe tbody tr th {\n",
              "        vertical-align: top;\n",
              "    }\n",
              "\n",
              "    .dataframe thead th {\n",
              "        text-align: right;\n",
              "    }\n",
              "</style>\n",
              "<table border=\"1\" class=\"dataframe\">\n",
              "  <thead>\n",
              "    <tr style=\"text-align: right;\">\n",
              "      <th></th>\n",
              "      <th>month</th>\n",
              "      <th>date</th>\n",
              "      <th>year</th>\n",
              "      <th>reviewid</th>\n",
              "      <th>reviewerid</th>\n",
              "      <th>productid</th>\n",
              "      <th>rating1</th>\n",
              "      <th>rating2</th>\n",
              "      <th>rating3</th>\n",
              "      <th>rating4</th>\n",
              "      <th>review</th>\n",
              "      <th>label</th>\n",
              "    </tr>\n",
              "  </thead>\n",
              "  <tbody>\n",
              "    <tr>\n",
              "      <th>Count of values</th>\n",
              "      <td>61541</td>\n",
              "      <td>61541</td>\n",
              "      <td>61541</td>\n",
              "      <td>61541</td>\n",
              "      <td>61541</td>\n",
              "      <td>61541</td>\n",
              "      <td>61541</td>\n",
              "      <td>61541</td>\n",
              "      <td>61541</td>\n",
              "      <td>61541</td>\n",
              "      <td>61541</td>\n",
              "      <td>61541</td>\n",
              "    </tr>\n",
              "  </tbody>\n",
              "</table>\n",
              "</div>"
            ],
            "text/plain": [
              "                 month   date   year  reviewid  reviewerid  productid  \\\n",
              "Count of values  61541  61541  61541     61541       61541      61541   \n",
              "\n",
              "                 rating1  rating2  rating3  rating4  review  label  \n",
              "Count of values    61541    61541    61541    61541   61541  61541  "
            ]
          },
          "metadata": {
            "tags": []
          }
        }
      ]
    },
    {
      "cell_type": "code",
      "metadata": {
        "id": "pOUprNNbBK_k",
        "colab_type": "code",
        "colab": {}
      },
      "source": [
        "from nltk.stem import PorterStemmer\n",
        "\n",
        "stemmer = PorterStemmer()\n",
        "\n",
        "df['review'] = df['review'].apply(lambda x: [stemmer.stem(y) for y in x]) "
      ],
      "execution_count": 0,
      "outputs": []
    },
    {
      "cell_type": "code",
      "metadata": {
        "id": "1QdBSbw6CCJH",
        "colab_type": "code",
        "colab": {}
      },
      "source": [
        "from sklearn.feature_extraction.text import CountVectorizer\n",
        "\n",
        "# This converts the list of words into space-separated strings\n",
        "df['review'] = df['review'].apply(lambda x: ' '.join(x))\n",
        "\n"
      ],
      "execution_count": 0,
      "outputs": []
    },
    {
      "cell_type": "code",
      "metadata": {
        "id": "WQbifWC7LQzz",
        "colab_type": "code",
        "colab": {}
      },
      "source": [
        "features = df.drop([\"label\"], axis=1).columns\n",
        "\n",
        "le = preprocessing.LabelEncoder()\n",
        "for column_name in df.columns:\n",
        "        if df[column_name].dtype == object:\n",
        "            df[column_name] = le.fit_transform(df[column_name])\n",
        "        else:\n",
        "            pass\n",
        "\n",
        "df_train, df_test = train_test_split(df, test_size=0.25)\n"
      ],
      "execution_count": 0,
      "outputs": []
    },
    {
      "cell_type": "code",
      "metadata": {
        "id": "UAmqYlVPLUj_",
        "colab_type": "code",
        "colab": {
          "base_uri": "https://localhost:8080/",
          "height": 34
        },
        "outputId": "93d0bb42-10c2-43cb-ae29-55d7557684d6"
      },
      "source": [
        "df_train = df_train.fillna(method='ffill')\n",
        "\n",
        "#train classifier\n",
        "\n",
        "clf = BernoulliNB()\n",
        "\n",
        "clf.fit(df_train[features], df_train[\"label\"])\n"
      ],
      "execution_count": 18,
      "outputs": [
        {
          "output_type": "execute_result",
          "data": {
            "text/plain": [
              "BernoulliNB(alpha=1.0, binarize=0.0, class_prior=None, fit_prior=True)"
            ]
          },
          "metadata": {
            "tags": []
          },
          "execution_count": 18
        }
      ]
    },
    {
      "cell_type": "code",
      "metadata": {
        "id": "XaK4BBh_Hjn0",
        "colab_type": "code",
        "colab": {
          "base_uri": "https://localhost:8080/",
          "height": 34
        },
        "outputId": "51980490-9b7c-499b-e373-cd0034b6a6ba"
      },
      "source": [
        "#make predictions\n",
        "\n",
        "predictions = clf.predict(df_test[features])\n",
        "probs = clf.predict_proba(df_test[features])\n",
        "display(predictions)"
      ],
      "execution_count": 19,
      "outputs": [
        {
          "output_type": "display_data",
          "data": {
            "text/plain": [
              "array([1., 1., 1., ..., 1., 1., 1.])"
            ]
          },
          "metadata": {
            "tags": []
          }
        }
      ]
    },
    {
      "cell_type": "code",
      "metadata": {
        "id": "r-iILrDaHtwG",
        "colab_type": "code",
        "colab": {
          "base_uri": "https://localhost:8080/",
          "height": 34
        },
        "outputId": "47597183-2752-47e6-fc57-6e68688feddd"
      },
      "source": [
        "#Evaluation\n",
        "\n",
        "score = clf.score(df_test[features], df_test[\"label\"])\n",
        "print(\"Accuracy: \", score)"
      ],
      "execution_count": 20,
      "outputs": [
        {
          "output_type": "stream",
          "text": [
            "Accuracy:  0.8740413362797348\n"
          ],
          "name": "stdout"
        }
      ]
    },
    {
      "cell_type": "code",
      "metadata": {
        "id": "IuGEkNFvYH5B",
        "colab_type": "code",
        "colab": {
          "base_uri": "https://localhost:8080/",
          "height": 111
        },
        "outputId": "7333012b-fb6d-4528-8dc7-fe5c3706201e"
      },
      "source": [
        "#Confusion Matrix\n",
        "\n",
        "get_ipython().magic('matplotlib inline')\n",
        "confusion_matrix = pd.DataFrame(\n",
        "    confusion_matrix(df_test[\"label\"], predictions), \n",
        "    columns=[\"Predicted False\", \"Predicted True\"], \n",
        "    index=[\"Actual False\", \"Actual True\"]\n",
        ")\n",
        "display(confusion_matrix) "
      ],
      "execution_count": 21,
      "outputs": [
        {
          "output_type": "display_data",
          "data": {
            "text/html": [
              "<div>\n",
              "<style scoped>\n",
              "    .dataframe tbody tr th:only-of-type {\n",
              "        vertical-align: middle;\n",
              "    }\n",
              "\n",
              "    .dataframe tbody tr th {\n",
              "        vertical-align: top;\n",
              "    }\n",
              "\n",
              "    .dataframe thead th {\n",
              "        text-align: right;\n",
              "    }\n",
              "</style>\n",
              "<table border=\"1\" class=\"dataframe\">\n",
              "  <thead>\n",
              "    <tr style=\"text-align: right;\">\n",
              "      <th></th>\n",
              "      <th>Predicted False</th>\n",
              "      <th>Predicted True</th>\n",
              "    </tr>\n",
              "  </thead>\n",
              "  <tbody>\n",
              "    <tr>\n",
              "      <th>Actual False</th>\n",
              "      <td>0</td>\n",
              "      <td>1938</td>\n",
              "    </tr>\n",
              "    <tr>\n",
              "      <th>Actual True</th>\n",
              "      <td>0</td>\n",
              "      <td>13448</td>\n",
              "    </tr>\n",
              "  </tbody>\n",
              "</table>\n",
              "</div>"
            ],
            "text/plain": [
              "              Predicted False  Predicted True\n",
              "Actual False                0            1938\n",
              "Actual True                 0           13448"
            ]
          },
          "metadata": {
            "tags": []
          }
        }
      ]
    },
    {
      "cell_type": "code",
      "metadata": {
        "id": "4bojtN0klvvw",
        "colab_type": "code",
        "colab": {
          "base_uri": "https://localhost:8080/",
          "height": 300
        },
        "outputId": "eaa2a020-84b4-4597-df42-3dcad6ea52b3"
      },
      "source": [
        "#\n",
        "plt.plot(df_test[\"label\"], predictions, color ='red')\n",
        "plt.xlabel(\"Truth\")\n",
        "plt.ylabel(\"Prediction\")"
      ],
      "execution_count": 31,
      "outputs": [
        {
          "output_type": "execute_result",
          "data": {
            "text/plain": [
              "Text(0, 0.5, 'Prediction')"
            ]
          },
          "metadata": {
            "tags": []
          },
          "execution_count": 31
        },
        {
          "output_type": "display_data",
          "data": {
            "image/png": "[encoded data removed]",
            "text/plain": [
              "<Figure size 432x288 with 1 Axes>"
            ]
          },
          "metadata": {
            "tags": []
          }
        }
      ]
    }
  ]
}