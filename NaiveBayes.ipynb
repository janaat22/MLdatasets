{
  "nbformat": 4,
  "nbformat_minor": 0,
  "metadata": {
    "colab": {
      "name": "NaiveBayes.ipynb",
      "version": "0.3.2",
      "provenance": [],
      "collapsed_sections": [],
      "include_colab_link": true
    },
    "kernelspec": {
      "name": "python3",
      "display_name": "Python 3"
    }
  },
  "cells": [
    {
      "cell_type": "markdown",
      "metadata": {
        "id": "view-in-github",
        "colab_type": "text"
      },
      "source": [
        "<a href=\"https://colab.research.google.com/github/janaat22/MLdatasets/blob/master/NaiveBayes.ipynb\" target=\"_parent\"><img src=\"https://colab.research.google.com/assets/colab-badge.svg\" alt=\"Open In Colab\"/></a>"
      ]
    },
    {
      "metadata": {
        "id": "l3E0MMdtJugo",
        "colab_type": "code",
        "outputId": "22ae3fa0-7224-4cb0-b949-003501882ef7",
        "colab": {
          "base_uri": "https://localhost:8080/",
          "height": 68
        }
      },
      "cell_type": "code",
      "source": [
        "import pandas as pd\n",
        "from sklearn.model_selection import train_test_split\n",
        "from sklearn.ensemble import RandomForestClassifier\n",
        "from sklearn.naive_bayes import MultinomialNB\n",
        "from sklearn.metrics import confusion_matrix\n",
        "from sklearn.metrics import roc_curve\n",
        "import matplotlib\n",
        "import matplotlib.pyplot as plt\n",
        "from IPython.display import display, HTML\n",
        "from sklearn import preprocessing\n",
        "from sklearn.naive_bayes import GaussianNB\n",
        "from sklearn import metrics\n",
        "import nltk  \n",
        "  \n",
        "nltk.download('punkt')"
      ],
      "execution_count": 275,
      "outputs": [
        {
          "output_type": "stream",
          "text": [
            "[nltk_data] Downloading package punkt to /root/nltk_data...\n",
            "[nltk_data]   Package punkt is already up-to-date!\n"
          ],
          "name": "stdout"
        },
        {
          "output_type": "execute_result",
          "data": {
            "text/plain": [
              "True"
            ]
          },
          "metadata": {
            "tags": []
          },
          "execution_count": 275
        }
      ]
    },
    {
      "metadata": {
        "id": "O5BG2s-YI1IM",
        "colab_type": "code",
        "colab": {}
      },
      "cell_type": "code",
      "source": [
        ""
      ],
      "execution_count": 0,
      "outputs": []
    },
    {
      "metadata": {
        "id": "gJEbQIV6LB4w",
        "colab_type": "code",
        "outputId": "937031a5-466f-47b2-cd86-693996470201",
        "colab": {
          "base_uri": "https://localhost:8080/",
          "height": 114
        }
      },
      "cell_type": "code",
      "source": [
        "df = pd.read_csv(\"ReviewCSV.csv\")\n",
        "\n",
        "print(\"Number of rows: \", df.shape[0])\n",
        "counts = df.describe().iloc[0]\n",
        "display(\n",
        "pd.DataFrame(\n",
        "counts.tolist(), \n",
        "columns=[\"Count of values\"], \n",
        "index=counts.index.values\n",
        ").transpose()\n",
        ")\n",
        "df['label'] = df.label.map({'Y': 0, 'N': 1}) \n",
        "df['review'] = df.review.map(lambda x: x.lower()) \n",
        "df['review'] = df.review.str.replace('[^\\w\\s]', '')\n",
        "\n",
        "df['review'] = df['review'].apply(nltk.word_tokenize)"
      ],
      "execution_count": 276,
      "outputs": [
        {
          "output_type": "stream",
          "text": [
            "Number of rows:  61541\n"
          ],
          "name": "stdout"
        },
        {
          "output_type": "display_data",
          "data": {
            "text/html": [
              "<div>\n",
              "<style scoped>\n",
              "    .dataframe tbody tr th:only-of-type {\n",
              "        vertical-align: middle;\n",
              "    }\n",
              "\n",
              "    .dataframe tbody tr th {\n",
              "        vertical-align: top;\n",
              "    }\n",
              "\n",
              "    .dataframe thead th {\n",
              "        text-align: right;\n",
              "    }\n",
              "</style>\n",
              "<table border=\"1\" class=\"dataframe\">\n",
              "  <thead>\n",
              "    <tr style=\"text-align: right;\">\n",
              "      <th></th>\n",
              "      <th>month</th>\n",
              "      <th>date</th>\n",
              "      <th>year</th>\n",
              "      <th>reviewid</th>\n",
              "      <th>reviewerid</th>\n",
              "      <th>productid</th>\n",
              "      <th>rating1</th>\n",
              "      <th>rating2</th>\n",
              "      <th>rating3</th>\n",
              "      <th>rating4</th>\n",
              "      <th>review</th>\n",
              "      <th>label</th>\n",
              "    </tr>\n",
              "  </thead>\n",
              "  <tbody>\n",
              "    <tr>\n",
              "      <th>Count of values</th>\n",
              "      <td>61541</td>\n",
              "      <td>61541</td>\n",
              "      <td>61541</td>\n",
              "      <td>61541</td>\n",
              "      <td>61541</td>\n",
              "      <td>61541</td>\n",
              "      <td>61541</td>\n",
              "      <td>61541</td>\n",
              "      <td>61541</td>\n",
              "      <td>61541</td>\n",
              "      <td>61541</td>\n",
              "      <td>61541</td>\n",
              "    </tr>\n",
              "  </tbody>\n",
              "</table>\n",
              "</div>"
            ],
            "text/plain": [
              "                 month   date   year  reviewid  reviewerid  productid  \\\n",
              "Count of values  61541  61541  61541     61541       61541      61541   \n",
              "\n",
              "                 rating1  rating2  rating3  rating4  review  label  \n",
              "Count of values    61541    61541    61541    61541   61541  61541  "
            ]
          },
          "metadata": {
            "tags": []
          }
        }
      ]
    },
    {
      "metadata": {
        "id": "pOUprNNbBK_k",
        "colab_type": "code",
        "colab": {}
      },
      "cell_type": "code",
      "source": [
        "from nltk.stem import PorterStemmer\n",
        "\n",
        "stemmer = PorterStemmer()\n",
        "\n",
        "df['review'] = df['review'].apply(lambda x: [stemmer.stem(y) for y in x]) "
      ],
      "execution_count": 0,
      "outputs": []
    },
    {
      "metadata": {
        "id": "1QdBSbw6CCJH",
        "colab_type": "code",
        "colab": {}
      },
      "cell_type": "code",
      "source": [
        "from sklearn.feature_extraction.text import CountVectorizer\n",
        "\n",
        "# This converts the list of words into space-separated strings\n",
        "df['review'] = df['review'].apply(lambda x: ' '.join(x))\n",
        "\n"
      ],
      "execution_count": 0,
      "outputs": []
    },
    {
      "metadata": {
        "id": "WQbifWC7LQzz",
        "colab_type": "code",
        "colab": {}
      },
      "cell_type": "code",
      "source": [
        "features = df.drop([\"label\"], axis=1).columns\n",
        "\n",
        "le = preprocessing.LabelEncoder()\n",
        "for column_name in df.columns:\n",
        "        if df[column_name].dtype == object:\n",
        "            df[column_name] = le.fit_transform(df[column_name])\n",
        "        else:\n",
        "            pass\n",
        "\n",
        "df_train, df_test = train_test_split(df, test_size=0.25)\n"
      ],
      "execution_count": 0,
      "outputs": []
    },
    {
      "metadata": {
        "id": "UAmqYlVPLUj_",
        "colab_type": "code",
        "outputId": "b93542fe-b16d-49fb-fda3-2858256e90fc",
        "colab": {
          "base_uri": "https://localhost:8080/",
          "height": 34
        }
      },
      "cell_type": "code",
      "source": [
        "df_train = df_train.fillna(method='ffill')\n",
        "clf = GaussianNB()\n",
        "\n",
        "clf.fit(df_train[features], df_train[\"label\"])\n"
      ],
      "execution_count": 280,
      "outputs": [
        {
          "output_type": "execute_result",
          "data": {
            "text/plain": [
              "GaussianNB(priors=None, var_smoothing=1e-09)"
            ]
          },
          "metadata": {
            "tags": []
          },
          "execution_count": 280
        }
      ]
    },
    {
      "metadata": {
        "id": "XaK4BBh_Hjn0",
        "colab_type": "code",
        "colab": {
          "base_uri": "https://localhost:8080/",
          "height": 34
        },
        "outputId": "83c5b465-688b-4746-ea1e-1b91120cbc97"
      },
      "cell_type": "code",
      "source": [
        "predictions = clf.predict(df_test[features])\n",
        "probs = clf.predict_proba(df_test[features])\n",
        "display(predictions)"
      ],
      "execution_count": 281,
      "outputs": [
        {
          "output_type": "display_data",
          "data": {
            "text/plain": [
              "array([0., 0., 0., ..., 0., 0., 1.])"
            ]
          },
          "metadata": {
            "tags": []
          }
        }
      ]
    },
    {
      "metadata": {
        "id": "r-iILrDaHtwG",
        "colab_type": "code",
        "colab": {
          "base_uri": "https://localhost:8080/",
          "height": 34
        },
        "outputId": "e9a927f9-eec0-4e84-dec9-28f1fd5501df"
      },
      "cell_type": "code",
      "source": [
        "score = clf.score(df_test[features], df_test[\"label\"])\n",
        "print(\"Accuracy: \", score)"
      ],
      "execution_count": 282,
      "outputs": [
        {
          "output_type": "stream",
          "text": [
            "Accuracy:  0.3440140387365137\n"
          ],
          "name": "stdout"
        }
      ]
    },
    {
      "metadata": {
        "id": "IuGEkNFvYH5B",
        "colab_type": "code",
        "colab": {
          "base_uri": "https://localhost:8080/",
          "height": 111
        },
        "outputId": "6268582a-e357-4d6b-8a70-d9b7c1fad10d"
      },
      "cell_type": "code",
      "source": [
        "get_ipython().magic('matplotlib inline')\n",
        "confusion_matrix = pd.DataFrame(\n",
        "    confusion_matrix(df_test[\"label\"], predictions), \n",
        "    columns=[\"Predicted False\", \"Predicted True\"], \n",
        "    index=[\"Actual False\", \"Actual True\"]\n",
        ")\n",
        "display(confusion_matrix) "
      ],
      "execution_count": 283,
      "outputs": [
        {
          "output_type": "display_data",
          "data": {
            "text/html": [
              "<div>\n",
              "<style scoped>\n",
              "    .dataframe tbody tr th:only-of-type {\n",
              "        vertical-align: middle;\n",
              "    }\n",
              "\n",
              "    .dataframe tbody tr th {\n",
              "        vertical-align: top;\n",
              "    }\n",
              "\n",
              "    .dataframe thead th {\n",
              "        text-align: right;\n",
              "    }\n",
              "</style>\n",
              "<table border=\"1\" class=\"dataframe\">\n",
              "  <thead>\n",
              "    <tr style=\"text-align: right;\">\n",
              "      <th></th>\n",
              "      <th>Predicted False</th>\n",
              "      <th>Predicted True</th>\n",
              "    </tr>\n",
              "  </thead>\n",
              "  <tbody>\n",
              "    <tr>\n",
              "      <th>Actual False</th>\n",
              "      <td>2059</td>\n",
              "      <td>0</td>\n",
              "    </tr>\n",
              "    <tr>\n",
              "      <th>Actual True</th>\n",
              "      <td>10093</td>\n",
              "      <td>3234</td>\n",
              "    </tr>\n",
              "  </tbody>\n",
              "</table>\n",
              "</div>"
            ],
            "text/plain": [
              "              Predicted False  Predicted True\n",
              "Actual False             2059               0\n",
              "Actual True             10093            3234"
            ]
          },
          "metadata": {
            "tags": []
          }
        }
      ]
    }
  ]
}